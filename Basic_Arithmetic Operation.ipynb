{
 "cells": [
  {
   "cell_type": "code",
   "execution_count": 7,
   "id": "fbf701c8-7153-4c33-9e81-9db59505438e",
   "metadata": {},
   "outputs": [
    {
     "name": "stdin",
     "output_type": "stream",
     "text": [
      "Enter the first number:  8\n",
      "Enter the second number:  9\n"
     ]
    },
    {
     "name": "stdout",
     "output_type": "stream",
     "text": [
      "\n",
      "Results:\n",
      "Addition: 8.0 + 9.0 = 17.0\n",
      "Subtraction: 8.0 - 9.0 = -1.0\n",
      "Multiplication: 8.0 * 9.0 = 72.0\n",
      "Division: 8.0 / 9.0 = 0.8888888888888888\n"
     ]
    }
   ],
   "source": [
    "# Take two numbers as input\n",
    "num1 = float(input(\"Enter the first number: \"))\n",
    "num2 = float(input(\"Enter the second number: \"))\n",
    "\n",
    "# Perform operations\n",
    "addition = num1 + num2\n",
    "subtraction = num1 - num2\n",
    "multiplication = num1 * num2\n",
    "\n",
    "# Handle division by zero\n",
    "if num2 != 0:\n",
    "    division = num1 / num2\n",
    "else:\n",
    "    division = \"Undefined (cannot divide by zero)\"\n",
    "\n",
    "# Display results\n",
    "print(\"\\nResults:\")\n",
    "print(f\"Addition: {num1} + {num2} = {addition}\")\n",
    "print(f\"Subtraction: {num1} - {num2} = {subtraction}\")\n",
    "print(f\"Multiplication: {num1} * {num2} = {multiplication}\")\n",
    "print(f\"Division: {num1} / {num2} = {division}\")"
   ]
  },
  {
   "cell_type": "code",
   "execution_count": null,
   "id": "405862aa-01f6-462d-b22a-c27a17810624",
   "metadata": {},
   "outputs": [],
   "source": []
  },
  {
   "cell_type": "code",
   "execution_count": null,
   "id": "855b6003-47f9-4de4-abb7-2e1fc300d16b",
   "metadata": {},
   "outputs": [],
   "source": []
  }
 ],
 "metadata": {
  "kernelspec": {
   "display_name": "Python 3 (ipykernel)",
   "language": "python",
   "name": "python3"
  },
  "language_info": {
   "codemirror_mode": {
    "name": "ipython",
    "version": 3
   },
   "file_extension": ".py",
   "mimetype": "text/x-python",
   "name": "python",
   "nbconvert_exporter": "python",
   "pygments_lexer": "ipython3",
   "version": "3.12.3"
  }
 },
 "nbformat": 4,
 "nbformat_minor": 5
}
