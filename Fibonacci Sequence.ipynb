{
 "cells": [
  {
   "cell_type": "code",
   "execution_count": 3,
   "id": "66b5b643-95e8-41ac-b34e-57fd56fd74af",
   "metadata": {},
   "outputs": [
    {
     "name": "stdin",
     "output_type": "stream",
     "text": [
      "Enter the number of terms for the Fibonacci sequence:  55\n"
     ]
    },
    {
     "name": "stdout",
     "output_type": "stream",
     "text": [
      "Fibonacci sequence with 55 terms: [0, 1, 1, 2, 3, 5, 8, 13, 21, 34, 55, 89, 144, 233, 377, 610, 987, 1597, 2584, 4181, 6765, 10946, 17711, 28657, 46368, 75025, 121393, 196418, 317811, 514229, 832040, 1346269, 2178309, 3524578, 5702887, 9227465, 14930352, 24157817, 39088169, 63245986, 102334155, 165580141, 267914296, 433494437, 701408733, 1134903170, 1836311903, 2971215073, 4807526976, 7778742049, 12586269025, 20365011074, 32951280099, 53316291173, 86267571272]\n"
     ]
    }
   ],
   "source": [
    "# Function to generate Fibonacci sequence\n",
    "def generate_fibonacci(n):\n",
    "    if n <= 0:\n",
    "        return []  # Return an empty list for non-positive input\n",
    "    elif n == 1:\n",
    "        return [0]  # Return [0] for a single term\n",
    "    elif n == 2:\n",
    "        return [0, 1]  # Return [0, 1] for two terms\n",
    "    \n",
    "    # Generate the sequence for n > 2\n",
    "    fibonacci_sequence = [0, 1]\n",
    "    for _ in range(2, n):\n",
    "        next_term = fibonacci_sequence[-1] + fibonacci_sequence[-2]\n",
    "        fibonacci_sequence.append(next_term)\n",
    "    return fibonacci_sequence\n",
    "\n",
    "# Take input from the user\n",
    "n_terms = int(input(\"Enter the number of terms for the Fibonacci sequence: \"))\n",
    "\n",
    "# Generate and display the Fibonacci sequence\n",
    "fib_sequence = generate_fibonacci(n_terms)\n",
    "print(f\"Fibonacci sequence with {n_terms} terms: {fib_sequence}\")"
   ]
  },
  {
   "cell_type": "code",
   "execution_count": null,
   "id": "05c5ecf7-fd4e-453e-9a0b-a708142d16c1",
   "metadata": {},
   "outputs": [],
   "source": []
  }
 ],
 "metadata": {
  "kernelspec": {
   "display_name": "Python 3 (ipykernel)",
   "language": "python",
   "name": "python3"
  },
  "language_info": {
   "codemirror_mode": {
    "name": "ipython",
    "version": 3
   },
   "file_extension": ".py",
   "mimetype": "text/x-python",
   "name": "python",
   "nbconvert_exporter": "python",
   "pygments_lexer": "ipython3",
   "version": "3.11.7"
  }
 },
 "nbformat": 4,
 "nbformat_minor": 5
}
