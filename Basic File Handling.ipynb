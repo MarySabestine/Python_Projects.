{
 "cells": [
  {
   "cell_type": "code",
   "execution_count": 3,
   "id": "605111f3-70dd-4cc3-81a5-c2740257602d",
   "metadata": {},
   "outputs": [
    {
     "name": "stdout",
     "output_type": "stream",
     "text": [
      "File '('Hills Like White Elephant.txt', '\"Hills Like White Elephants \\nis a short story by Ernest Hemingway. \\nIt was first published in August 1927, \\nin the literary magazine transition, \\nthen later in the 1927 short story collection Men Without Women. \\nLater the story was adapted for film in 2002.\\nLet\\'s count words, lines, and characters!')' created successfully.\n",
      "\n",
      "File Analysis Results:\n",
      "Number of lines: 7\n",
      "Number of words: 49\n",
      "Number of characters: 299\n"
     ]
    }
   ],
   "source": [
    "# Function to create and write content to a new file\n",
    "def create_text_file(filename, content):\n",
    "    with open(filename, 'w') as file:\n",
    "        file.write(content)\n",
    "    print(f\"File '{filename, file_content}' created successfully.\")\n",
    "\n",
    "# Function to count words, lines, and characters in a file\n",
    "def analyze_text_file(filename):\n",
    "    try:\n",
    "        with open(filename, 'r') as file:\n",
    "            lines = file.readlines()\n",
    "            num_lines = len(lines)\n",
    "            num_words = sum(len(line.split()) for line in lines)\n",
    "            num_characters = sum(len(line) for line in lines)\n",
    "        return num_lines, num_words, num_characters\n",
    "    except FileNotFoundError:\n",
    "        print(f\"Error: File '{filename}' not found.\")\n",
    "        return None, None, None\n",
    "\n",
    "# Main program\n",
    "file_name = \"Hills Like White Elephant.txt\"\n",
    "file_content = \"\"\"\"Hills Like White Elephants \n",
    "is a short story by Ernest Hemingway. \n",
    "It was first published in August 1927, \n",
    "in the literary magazine transition, \n",
    "then later in the 1927 short story collection Men Without Women. \n",
    "Later the story was adapted for film in 2002.\n",
    "Let's count words, lines, and characters!\"\"\"\n",
    "\n",
    "# Create a text file\n",
    "create_text_file(file_name, file_content)\n",
    "\n",
    "# Analyze the text file\n",
    "lines, words, characters = analyze_text_file(file_name)\n",
    "\n",
    "# Display the results\n",
    "if lines is not None:\n",
    "    print(\"\\nFile Analysis Results:\")\n",
    "    print(f\"Number of lines: {lines}\")\n",
    "    print(f\"Number of words: {words}\")\n",
    "    print(f\"Number of characters: {characters}\")"
   ]
  },
  {
   "cell_type": "code",
   "execution_count": null,
   "id": "bcc0861c-85b3-483a-8ae3-3301d4db301f",
   "metadata": {},
   "outputs": [],
   "source": []
  }
 ],
 "metadata": {
  "kernelspec": {
   "display_name": "Python 3 (ipykernel)",
   "language": "python",
   "name": "python3"
  },
  "language_info": {
   "codemirror_mode": {
    "name": "ipython",
    "version": 3
   },
   "file_extension": ".py",
   "mimetype": "text/x-python",
   "name": "python",
   "nbconvert_exporter": "python",
   "pygments_lexer": "ipython3",
   "version": "3.12.3"
  }
 },
 "nbformat": 4,
 "nbformat_minor": 5
}
