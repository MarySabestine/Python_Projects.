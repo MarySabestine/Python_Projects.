{
 "cells": [
  {
   "cell_type": "code",
   "execution_count": 1,
   "id": "d721d780-9ef9-40f4-9bbb-720ce39af7d1",
   "metadata": {},
   "outputs": [
    {
     "name": "stdin",
     "output_type": "stream",
     "text": [
      "Enter a string:  I love Python\n"
     ]
    },
    {
     "name": "stdout",
     "output_type": "stream",
     "text": [
      "\n",
      "Results:\n",
      "Number of vowels: 4\n",
      "Reversed string: nohtyP evol I\n",
      "Uppercase string: I LOVE PYTHON\n"
     ]
    }
   ],
   "source": [
    "# Function to count the number of vowels in a string\n",
    "def count_vowels(s):\n",
    "    vowels = \"aeiouAEIOU\"\n",
    "    return sum(1 for char in s if char in vowels)\n",
    "\n",
    "# Function to reverse a string\n",
    "def reverse_string(s):\n",
    "    return s[::-1]\n",
    "\n",
    "# Function to convert a string to uppercase\n",
    "def convert_to_uppercase(s):\n",
    "    return s.upper()\n",
    "\n",
    "# Take a string input from the user\n",
    "user_input = input(\"Enter a string: \")\n",
    "\n",
    "# Perform operations\n",
    "vowel_count = count_vowels(user_input)\n",
    "reversed_string = reverse_string(user_input)\n",
    "uppercase_string = convert_to_uppercase(user_input)\n",
    "\n",
    "# Display results\n",
    "print(\"\\nResults:\")\n",
    "print(f\"Number of vowels: {vowel_count}\")\n",
    "print(f\"Reversed string: {reversed_string}\")\n",
    "print(f\"Uppercase string: {uppercase_string}\")"
   ]
  },
  {
   "cell_type": "code",
   "execution_count": null,
   "id": "e3439ec2-e394-4059-ac2e-6c25d6c9847f",
   "metadata": {},
   "outputs": [],
   "source": []
  }
 ],
 "metadata": {
  "kernelspec": {
   "display_name": "Python 3 (ipykernel)",
   "language": "python",
   "name": "python3"
  },
  "language_info": {
   "codemirror_mode": {
    "name": "ipython",
    "version": 3
   },
   "file_extension": ".py",
   "mimetype": "text/x-python",
   "name": "python",
   "nbconvert_exporter": "python",
   "pygments_lexer": "ipython3",
   "version": "3.11.7"
  }
 },
 "nbformat": 4,
 "nbformat_minor": 5
}
