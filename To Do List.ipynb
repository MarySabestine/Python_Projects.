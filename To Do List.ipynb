{
 "cells": [
  {
   "cell_type": "code",
   "execution_count": null,
   "id": "bcc0861c-85b3-483a-8ae3-3301d4db301f",
   "metadata": {},
   "outputs": [
    {
     "name": "stdout",
     "output_type": "stream",
     "text": [
      "\n",
      "To-Do List Application\n",
      "1. View tasks\n",
      "2. Add a task\n",
      "3. Remove a task\n",
      "4. Exit\n"
     ]
    },
    {
     "name": "stdin",
     "output_type": "stream",
     "text": [
      "\n",
      "Enter your choice (1-4):  1\n"
     ]
    },
    {
     "name": "stdout",
     "output_type": "stream",
     "text": [
      "\n",
      "Your to-do list is empty!\n",
      "\n",
      "To-Do List Application\n",
      "1. View tasks\n",
      "2. Add a task\n",
      "3. Remove a task\n",
      "4. Exit\n"
     ]
    }
   ],
   "source": [
    "# Define the to-do list\n",
    "to_do_list = []\n",
    "\n",
    "# Function to display the menu\n",
    "def display_menu():\n",
    "    print(\"\\nTo-Do List Application\")\n",
    "    print(\"1. View tasks\")\n",
    "    print(\"2. Add a task\")\n",
    "    print(\"3. Remove a task\")\n",
    "    print(\"4. Exit\")\n",
    "\n",
    "# Function to view tasks\n",
    "def view_tasks():\n",
    "    if not to_do_list:\n",
    "        print(\"\\nYour to-do list is empty!\")\n",
    "    else:\n",
    "        print(\"\\nYour Tasks:\")\n",
    "        for i, task in enumerate(to_do_list, start=1):\n",
    "            print(f\"{i}. {task}\")\n",
    "\n",
    "# Function to add a task\n",
    "def add_task():\n",
    "    task = input(\"\\nEnter the task to add: \")\n",
    "    to_do_list.append(task)\n",
    "    print(f\"Task '{task}' added successfully!\")\n",
    "\n",
    "# Function to remove a task\n",
    "def remove_task():\n",
    "    if not to_do_list:\n",
    "        print(\"\\nYour to-do list is empty! No task to remove.\")\n",
    "        return\n",
    "    view_tasks()\n",
    "    try:\n",
    "        task_num = int(input(\"\\nEnter the task number to remove: \"))\n",
    "        if 1 <= task_num <= len(to_do_list):\n",
    "            removed_task = to_do_list.pop(task_num - 1)\n",
    "            print(f\"Task '{removed_task}' removed successfully!\")\n",
    "        else:\n",
    "            print(\"Invalid task number. Please try again.\")\n",
    "    except ValueError:\n",
    "        print(\"Invalid input. Please enter a valid number.\")\n",
    "\n",
    "# Main loop\n",
    "def main():\n",
    "    while True:\n",
    "        display_menu()\n",
    "        choice = input(\"\\nEnter your choice (1-4): \")\n",
    "        if choice == '1':\n",
    "            view_tasks()\n",
    "        elif choice == '2':\n",
    "            add_task()\n",
    "        elif choice == '3':\n",
    "            remove_task()\n",
    "        elif choice == '4':\n",
    "            print(\"Exiting the application. Goodbye!\")\n",
    "            break\n",
    "        else:\n",
    "            print(\"Invalid choice. Please try again.\")\n",
    "\n",
    "# Run the application\n",
    "main()"
   ]
  },
  {
   "cell_type": "code",
   "execution_count": null,
   "id": "40e7472e-294a-4a1d-99ed-a85fdac5b77a",
   "metadata": {},
   "outputs": [],
   "source": []
  }
 ],
 "metadata": {
  "kernelspec": {
   "display_name": "Python 3 (ipykernel)",
   "language": "python",
   "name": "python3"
  },
  "language_info": {
   "codemirror_mode": {
    "name": "ipython",
    "version": 3
   },
   "file_extension": ".py",
   "mimetype": "text/x-python",
   "name": "python",
   "nbconvert_exporter": "python",
   "pygments_lexer": "ipython3",
   "version": "3.11.7"
  }
 },
 "nbformat": 4,
 "nbformat_minor": 5
}
