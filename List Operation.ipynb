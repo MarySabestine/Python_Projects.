{
 "cells": [
  {
   "cell_type": "code",
   "execution_count": 1,
   "id": "9f031028-ba20-41b9-9c20-23e06e6dac72",
   "metadata": {},
   "outputs": [
    {
     "name": "stdout",
     "output_type": "stream",
     "text": [
      "List of Numbers: [51, 65, 99, 102, 25, 87, 98, 80]\n",
      "Maximum Value: 102\n",
      "Minimum Value: 25\n",
      "Average Value: 75.875\n"
     ]
    }
   ],
   "source": [
    "# Create a list of numbers\n",
    "numbers = [51, 65, 99, 102, 25, 87, 98, 80]\n",
    "\n",
    "# Function to find the maximum value\n",
    "def find_max(nums):\n",
    "    return max(nums)\n",
    "\n",
    "# Function to find the minimum value\n",
    "def find_min(nums):\n",
    "    return min(nums)\n",
    "\n",
    "# Function to calculate the average\n",
    "def calculate_average(nums):\n",
    "    return sum(nums) / len(nums) if nums else 0  # Avoid division by zero for an empty list\n",
    "\n",
    "# Calculate results\n",
    "max_value = find_max(numbers)\n",
    "min_value = find_min(numbers)\n",
    "average_value = calculate_average(numbers)\n",
    "\n",
    "# Display results\n",
    "print(\"List of Numbers:\", numbers)\n",
    "print(\"Maximum Value:\", max_value)\n",
    "print(\"Minimum Value:\", min_value)\n",
    "print(\"Average Value:\", average_value)"
   ]
  },
  {
   "cell_type": "code",
   "execution_count": null,
   "id": "12c57b6a-fc40-499f-8013-63c597afc165",
   "metadata": {},
   "outputs": [],
   "source": []
  }
 ],
 "metadata": {
  "kernelspec": {
   "display_name": "Python 3 (ipykernel)",
   "language": "python",
   "name": "python3"
  },
  "language_info": {
   "codemirror_mode": {
    "name": "ipython",
    "version": 3
   },
   "file_extension": ".py",
   "mimetype": "text/x-python",
   "name": "python",
   "nbconvert_exporter": "python",
   "pygments_lexer": "ipython3",
   "version": "3.12.3"
  }
 },
 "nbformat": 4,
 "nbformat_minor": 5
}
