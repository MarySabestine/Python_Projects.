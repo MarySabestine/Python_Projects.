{
 "cells": [
  {
   "cell_type": "code",
   "execution_count": null,
   "id": "05c5ecf7-fd4e-453e-9a0b-a708142d16c1",
   "metadata": {},
   "outputs": [
    {
     "name": "stdout",
     "output_type": "stream",
     "text": [
      "Welcome to Tic-Tac-Toe!\n",
      "\n",
      "\n",
      "  |   |  \n",
      "-----\n",
      "  |   |  \n",
      "-----\n",
      "  |   |  \n",
      "-----\n"
     ]
    },
    {
     "name": "stdin",
     "output_type": "stream",
     "text": [
      "Player X, enter your move (row and column: e.g., 1 2):  3\n"
     ]
    },
    {
     "name": "stdout",
     "output_type": "stream",
     "text": [
      "Invalid input. Please enter row and column numbers between 1 and 3 (e.g., 1 2).\n"
     ]
    },
    {
     "name": "stdin",
     "output_type": "stream",
     "text": [
      "Player X, enter your move (row and column: e.g., 1 2):  1\n"
     ]
    },
    {
     "name": "stdout",
     "output_type": "stream",
     "text": [
      "Invalid input. Please enter row and column numbers between 1 and 3 (e.g., 1 2).\n"
     ]
    },
    {
     "name": "stdin",
     "output_type": "stream",
     "text": [
      "Player X, enter your move (row and column: e.g., 1 2):  1 2\n"
     ]
    },
    {
     "name": "stdout",
     "output_type": "stream",
     "text": [
      "\n",
      "\n",
      "  | X |  \n",
      "-----\n",
      "  |   |  \n",
      "-----\n",
      "  |   |  \n",
      "-----\n"
     ]
    },
    {
     "name": "stdin",
     "output_type": "stream",
     "text": [
      "Player O, enter your move (row and column: e.g., 1 2):  3 5\n"
     ]
    },
    {
     "name": "stdout",
     "output_type": "stream",
     "text": [
      "Invalid input. Please enter row and column numbers between 1 and 3 (e.g., 1 2).\n"
     ]
    }
   ],
   "source": [
    "# Function to display the Tic-Tac-Toe board\n",
    "def display_board(board):\n",
    "    print(\"\\n\")\n",
    "    for row in board:\n",
    "        print(\" | \".join(row))\n",
    "        print(\"-\" * 5)\n",
    "\n",
    "# Function to check for a win\n",
    "def check_winner(board, player):\n",
    "    # Check rows, columns, and diagonals for a win\n",
    "    for row in board:\n",
    "        if all(cell == player for cell in row):\n",
    "            return True\n",
    "    for col in range(3):\n",
    "        if all(board[row][col] == player for row in range(3)):\n",
    "            return True\n",
    "    if all(board[i][i] == player for i in range(3)) or all(board[i][2 - i] == player for i in range(3)):\n",
    "        return True\n",
    "    return False\n",
    "\n",
    "# Function to check for a draw\n",
    "def check_draw(board):\n",
    "    return all(cell != \" \" for row in board for cell in row)\n",
    "\n",
    "# Function to get a valid move from the current player\n",
    "def get_move(board, player):\n",
    "    while True:\n",
    "        try:\n",
    "            move = input(f\"Player {player}, enter your move (row and column: e.g., 1 2): \").split()\n",
    "            row, col = int(move[0]) - 1, int(move[1]) - 1\n",
    "            if board[row][col] == \" \":\n",
    "                return row, col\n",
    "            else:\n",
    "                print(\"Cell is already occupied. Try again.\")\n",
    "        except (ValueError, IndexError):\n",
    "            print(\"Invalid input. Please enter row and column numbers between 1 and 3 (e.g., 1 2).\")\n",
    "\n",
    "# Main function to play the game\n",
    "def play_game():\n",
    "    # Initialize the game board\n",
    "    board = [[\" \" for _ in range(3)] for _ in range(3)]\n",
    "    current_player = \"X\"\n",
    "\n",
    "    print(\"Welcome to Tic-Tac-Toe!\")\n",
    "    display_board(board)\n",
    "\n",
    "    while True:\n",
    "        # Get the current player's move\n",
    "        row, col = get_move(board, current_player)\n",
    "        board[row][col] = current_player\n",
    "\n",
    "        # Display the updated board\n",
    "        display_board(board)\n",
    "\n",
    "        # Check for a win or draw\n",
    "        if check_winner(board, current_player):\n",
    "            print(f\"Player {current_player} wins!\")\n",
    "            break\n",
    "        if check_draw(board):\n",
    "            print(\"It's a draw!\")\n",
    "            break\n",
    "\n",
    "        # Switch players\n",
    "        current_player = \"O\" if current_player == \"X\" else \"X\"\n",
    "\n",
    "# Run the game\n",
    "play_game()\n"
   ]
  },
  {
   "cell_type": "code",
   "execution_count": null,
   "id": "9c060ec9-62d6-4708-9aef-bcd94e191846",
   "metadata": {},
   "outputs": [],
   "source": []
  }
 ],
 "metadata": {
  "kernelspec": {
   "display_name": "Python 3 (ipykernel)",
   "language": "python",
   "name": "python3"
  },
  "language_info": {
   "codemirror_mode": {
    "name": "ipython",
    "version": 3
   },
   "file_extension": ".py",
   "mimetype": "text/x-python",
   "name": "python",
   "nbconvert_exporter": "python",
   "pygments_lexer": "ipython3",
   "version": "3.11.7"
  }
 },
 "nbformat": 4,
 "nbformat_minor": 5
}
