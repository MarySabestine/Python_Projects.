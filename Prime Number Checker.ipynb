{
 "cells": [
  {
   "cell_type": "code",
   "execution_count": 1,
   "id": "5baeafb0-fd15-46b5-bdbb-fc271c7366a7",
   "metadata": {},
   "outputs": [
    {
     "name": "stdin",
     "output_type": "stream",
     "text": [
      "Enter a number to check if it's prime:  89\n"
     ]
    },
    {
     "name": "stdout",
     "output_type": "stream",
     "text": [
      "89 is a prime number!\n"
     ]
    }
   ],
   "source": [
    "# Function to check if a number is prime\n",
    "def is_prime(num):\n",
    "    if num <= 1:\n",
    "        return False  # Numbers less than or equal to 1 are not prime\n",
    "    for i in range(2, int(num**0.5) + 1):  # Check divisors up to the square root of the number\n",
    "        if num % i == 0:\n",
    "            return False\n",
    "    return True\n",
    "\n",
    "# Take input from the user\n",
    "user_input = int(input(\"Enter a number to check if it's prime: \"))\n",
    "\n",
    "# Check and display the result\n",
    "if is_prime(user_input):\n",
    "    print(f\"{user_input} is a prime number!\")\n",
    "else:\n",
    "    print(f\"{user_input} is not a prime number.\")"
   ]
  },
  {
   "cell_type": "code",
   "execution_count": null,
   "id": "357dd735-e914-4daf-94de-a248822b9b4f",
   "metadata": {},
   "outputs": [],
   "source": []
  }
 ],
 "metadata": {
  "kernelspec": {
   "display_name": "Python 3 (ipykernel)",
   "language": "python",
   "name": "python3"
  },
  "language_info": {
   "codemirror_mode": {
    "name": "ipython",
    "version": 3
   },
   "file_extension": ".py",
   "mimetype": "text/x-python",
   "name": "python",
   "nbconvert_exporter": "python",
   "pygments_lexer": "ipython3",
   "version": "3.11.7"
  }
 },
 "nbformat": 4,
 "nbformat_minor": 5
}
